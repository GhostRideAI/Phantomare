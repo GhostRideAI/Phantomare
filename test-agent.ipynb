{
 "cells": [
  {
   "cell_type": "markdown",
   "metadata": {},
   "source": [
    "# Agent Evaluation Notebook"
   ]
  },
  {
   "cell_type": "code",
   "execution_count": 14,
   "metadata": {},
   "outputs": [],
   "source": [
    "# Imports\n",
    "from PIL import ImageDraw\n",
    "from IPython.display import Video\n",
    "import numpy as np\n",
    "import matplotlib.pyplot as plt\n",
    "plt.style.use('dark_background')\n",
    "from utils import Utils, Config\n",
    "from agent import *\n",
    "from training import *"
   ]
  },
  {
   "cell_type": "code",
   "execution_count": 15,
   "metadata": {},
   "outputs": [],
   "source": [
    "# Settings\n",
    "CFG = 'configurations/cfg.yml'\n",
    "CKPT = 'experiments/test/version_5/checkpoints/step=52500-hp_metric=933.2999877929688.ckpt'"
   ]
  },
  {
   "cell_type": "code",
   "execution_count": null,
   "metadata": {},
   "outputs": [],
   "source": [
    "# Load modules\n",
    "cfg = Config.from_yaml(CFG)\n",
    "lm = LitModule.load_from_checkpoint(CKPT, cfg=cfg.lit_module)\n",
    "env = Environment(gym_name='CarRacing-v2', record=True)\n",
    "agent = Agent(env, (lm.net.world_model, lm.net.actor), action_repeat=1)"
   ]
  },
  {
   "cell_type": "markdown",
   "metadata": {},
   "source": [
    "## Real Environment"
   ]
  },
  {
   "cell_type": "code",
   "execution_count": null,
   "metadata": {},
   "outputs": [],
   "source": [
    "# Perform test episode & display video\n",
    "obs, _ = agent.reset()\n",
    "done = False\n",
    "observations, actions, rewards = [], [], []\n",
    "while not done:\n",
    "    new_obs, action, reward, term, trunc = agent.act(obs, exploit=True)\n",
    "    done = max(term, trunc)\n",
    "    observations += [np.array(Utils.ten2img(obs['image'][0]).resize((256,256)))]\n",
    "    actions += [action]\n",
    "    rewards += [reward]\n",
    "    obs = new_obs\n",
    "\n",
    "print(f'RETURN: {sum(rewards).item():.2f}')\n",
    "Video('./rl-video-episode-0.mp4', embed=True)"
   ]
  },
  {
   "cell_type": "code",
   "execution_count": null,
   "metadata": {},
   "outputs": [],
   "source": [
    "# View action plots\n",
    "actions = torch.cat(actions)\n",
    "colors = plt.rcParams['axes.prop_cycle'].by_key()['color'] \n",
    "fig = plt.figure(figsize=(12,12))\n",
    "gs = fig.add_gridspec(3, hspace=0)\n",
    "axs = gs.subplots(sharex=True, sharey=True)\n",
    "axs[0].plot(actions[:,0], colors[0])\n",
    "axs[0].legend(['Steering'])\n",
    "axs[1].plot(actions[:,1], colors[1])\n",
    "axs[1].legend(['Throttle'])\n",
    "axs[2].plot(actions[:,2], colors[2])\n",
    "axs[2].legend(['Brake']);"
   ]
  },
  {
   "cell_type": "markdown",
   "metadata": {},
   "source": [
    "## Dream Environment"
   ]
  },
  {
   "cell_type": "code",
   "execution_count": null,
   "metadata": {},
   "outputs": [],
   "source": [
    "# Let model dream & display video\n",
    "N_STEPS = 500\n",
    "obs, _ = agent.reset()\n",
    "obs['image'] = obs['image'].float()/255.0\n",
    "_, initial_posterior = lm.net.world_model.encode_state(obs, lm.net.world_model.h0)\n",
    "dream = lm.net.world_model.dream(initial_posterior.unflatten(-1, (32,32)), lm.net.world_model._get_inital_recurrent_state(1), lm.net.actor, N_STEPS-1, exploit=True)\n",
    "(states, actions, continues, action_distribution,\n",
    " reward_distribution, continue_distribution) = dream\n",
    " \n",
    "seq = lm.net.world_model.image_decoder(states.flatten(0,1)).mode.unflatten(0, (1,N_STEPS))[0]\n",
    "score = 0.0\n",
    "vid = []\n",
    "for o, r, a in zip(seq, reward_distribution.mean[0], actions[0]):\n",
    "    o = Utils.ten2img(o.clamp(0,1)).resize((256,256)).convert('RGB')\n",
    "    draw = ImageDraw.Draw(o)\n",
    "    score += r.item()\n",
    "    draw.text((20,20), f'SCORE: {score:.2f}', fill=(255,0,255))\n",
    "    vid += [np.array(o)]\n",
    "Utils.create_mp4(vid, './dream-test.mp4', 30)\n",
    "Video('./dream-test.mp4', embed=True)"
   ]
  },
  {
   "cell_type": "code",
   "execution_count": null,
   "metadata": {},
   "outputs": [],
   "source": [
    "# View dream action plots\n",
    "actions = actions[0].detach()\n",
    "colors = plt.rcParams['axes.prop_cycle'].by_key()['color'] \n",
    "fig = plt.figure(figsize=(12,12))\n",
    "gs = fig.add_gridspec(3, hspace=0)\n",
    "axs = gs.subplots(sharex=True, sharey=True)\n",
    "axs[0].plot(actions[:,0], colors[0])\n",
    "axs[0].legend(['Steering'])\n",
    "axs[1].plot(actions[:,1], colors[1])\n",
    "axs[1].legend(['Throttle'])\n",
    "axs[2].plot(actions[:,2], colors[2])\n",
    "axs[2].legend(['Brake']);"
   ]
  },
  {
   "cell_type": "code",
   "execution_count": null,
   "metadata": {},
   "outputs": [],
   "source": []
  }
 ],
 "metadata": {
  "kernelspec": {
   "display_name": "Phantomare",
   "language": "python",
   "name": "python3"
  },
  "language_info": {
   "codemirror_mode": {
    "name": "ipython",
    "version": 3
   },
   "file_extension": ".py",
   "mimetype": "text/x-python",
   "name": "python",
   "nbconvert_exporter": "python",
   "pygments_lexer": "ipython3",
   "version": "3.11.10"
  }
 },
 "nbformat": 4,
 "nbformat_minor": 2
}
